{
 "cells": [
  {
   "cell_type": "code",
   "execution_count": 1,
   "metadata": {},
   "outputs": [],
   "source": [
    "import sys, json\n",
    "sys.path.insert(0, r'C:\\Users\\tglaubach\\repos\\pydocmaker\\src')"
   ]
  },
  {
   "cell_type": "code",
   "execution_count": 2,
   "metadata": {},
   "outputs": [],
   "source": [
    "import pydocmaker as pyd"
   ]
  },
  {
   "cell_type": "markdown",
   "metadata": {},
   "source": [
    "# Example on how to Export Reports\n",
    "\n",
    "This example is based on the last example `01_example_build_doc.ipynb` but can also be read individually."
   ]
  },
  {
   "cell_type": "markdown",
   "metadata": {},
   "source": [
    "## Let's Build an Example Document To Export"
   ]
  },
  {
   "cell_type": "code",
   "execution_count": 3,
   "metadata": {},
   "outputs": [],
   "source": [
    "doc = pyd.DocBuilder()\n",
    "doc.add_chapter('Introduction')\n",
    "doc.add('dummy text which will be added to the introduction')\n",
    "doc.add_kw('verbatim', 'def hello_world():\\n   print(\"hello world!\")')\n",
    "doc.add_chapter('Second Chapter')\n",
    "doc.add_kw('markdown', 'This is my fancy `markdown` text for the Second Chapter')\n",
    "doc.add_image(\"https://github.githubassets.com/assets/GitHub-Mark-ea2971cee799.png\")\n",
    "doc.show()"
   ]
  },
  {
   "cell_type": "markdown",
   "metadata": {},
   "source": [
    "## Using the Export function to create reports"
   ]
  },
  {
   "cell_type": "markdown",
   "metadata": {},
   "source": [
    "### Export to a single format"
   ]
  },
  {
   "cell_type": "markdown",
   "metadata": {},
   "source": [
    "Either write to a file like this (format will be auto detected from filename):"
   ]
  },
  {
   "cell_type": "code",
   "execution_count": 4,
   "metadata": {},
   "outputs": [
    {
     "name": "stdout",
     "output_type": "stream",
     "text": [
      "['myfile.html']\n"
     ]
    }
   ],
   "source": [
    "import tempfile, os, datetime\n",
    "with tempfile.TemporaryDirectory() as tmpdir:\n",
    "    doc.export(tmpdir + '/myfile.html')\n",
    "    print(os.listdir(tmpdir))\n"
   ]
  },
  {
   "cell_type": "code",
   "execution_count": 5,
   "metadata": {},
   "outputs": [
    {
     "name": "stdout",
     "output_type": "stream",
     "text": [
      "## Introduction\n",
      "\n",
      "\n",
      "\n",
      "dummy text which will be added to the introduction\n",
      "\n",
      "\n",
      "\n",
      "```\n",
      "def hello_world():\n",
      "   print(\"hello world!\")\n",
      "```\n",
      "\n",
      "\n",
      "\n",
      "## Second Chapter\n",
      "\n",
      "\n",
      "\n",
      "This is my fancy `markdown` text for the Second Cha...\n",
      "(rest omitted for brevity)\n"
     ]
    }
   ],
   "source": [
    "# give a string for path_or_stream to save to a file instead\n",
    "md_txt = doc.export('md', path_or_stream=None)\n",
    "print(md_txt[:200] + '...\\n(rest omitted for brevity)')"
   ]
  },
  {
   "cell_type": "markdown",
   "metadata": {},
   "source": [
    "### Export to all formats"
   ]
  },
  {
   "cell_type": "code",
   "execution_count": 6,
   "metadata": {},
   "outputs": [
    {
     "name": "stdout",
     "output_type": "stream",
     "text": [
      "key='exported_report.md', type(v)=<class 'str'>, v[:20]='## Introduction\\n\\n\\n\\nd', ...\n",
      "key='exported_report.html', type(v)=<class 'str'>, v[:20]='<h2>Introduction</h2', ...\n",
      "key='exported_report.json', type(v)=<class 'str'>, v[:20]='[\\n    {\\n        \"typ', ...\n",
      "key='exported_report.docx', type(v)=<class 'bytes'>, v[:20]=b'PK\\x03\\x04\\x14\\x00\\x00\\x00\\x08\\x00/~%Y\\xfc\\xa7\\xae\\xd0\\x9b\\x01', ...\n",
      "key='exported_report.textile.zip', type(v)=<class 'str'>, v[:20]='h2.  Introduction\\n\\n\\n', ...\n",
      "key='exported_report.ipynb', type(v)=<class 'str'>, v[:20]='{\\n  \"cells\": [\\n    {', ...\n",
      "key='exported_report.tex.zip', type(v)=<class 'str'>, v[:20]='\\n\\n\\\\section{Introduct', ...\n",
      "key='exported_report.redmine', type(v)=<class 'str'>, v[:20]='h2.  Introduction\\n\\n\\n', ...\n"
     ]
    }
   ],
   "source": [
    "dc = doc.export_many()\n",
    "\n",
    "for key, v in dc.items():\n",
    "    if isinstance(v, tuple):\n",
    "        v = v[0]\n",
    "    print(f'{key=}, {type(v)=}, {v[:20]=}, ...')\n",
    "    "
   ]
  },
  {
   "cell_type": "markdown",
   "metadata": {},
   "source": [
    "# Export document to all possible formats and save them in a directory"
   ]
  },
  {
   "cell_type": "code",
   "execution_count": 7,
   "metadata": {},
   "outputs": [
    {
     "name": "stdout",
     "output_type": "stream",
     "text": [
      "\n",
      "\n",
      "This shows the filenames and if writing was successfull!\n",
      "C:\\Users\\TGLAUB~1\\AppData\\Local\\Temp\\tmpa1q3gajl\\exported_report.md............. True\n",
      "C:\\Users\\TGLAUB~1\\AppData\\Local\\Temp\\tmpa1q3gajl\\exported_report.html........... True\n",
      "C:\\Users\\TGLAUB~1\\AppData\\Local\\Temp\\tmpa1q3gajl\\exported_report.json........... True\n",
      "C:\\Users\\TGLAUB~1\\AppData\\Local\\Temp\\tmpa1q3gajl\\exported_report.docx........... True\n",
      "C:\\Users\\TGLAUB~1\\AppData\\Local\\Temp\\tmpa1q3gajl\\exported_report.textile.zip.... True\n",
      "C:\\Users\\TGLAUB~1\\AppData\\Local\\Temp\\tmpa1q3gajl\\exported_report.ipynb.......... True\n",
      "C:\\Users\\TGLAUB~1\\AppData\\Local\\Temp\\tmpa1q3gajl\\exported_report.tex.zip........ True\n",
      "\n",
      "\n",
      "PATH                                                                             |      SIZE bytes | LAST TIME MODIFIED\n",
      "-------------------------------------------------------------------------------- +-----------------+------------------------------\n",
      "C:\\Users\\TGLAUB~1\\AppData\\Local\\Temp\\tmpa1q3gajl\\exported_report.docx            |     44233 bytes | 2024-09-05T15:49:31.334860\n",
      "C:\\Users\\TGLAUB~1\\AppData\\Local\\Temp\\tmpa1q3gajl\\exported_report.html            |     10439 bytes | 2024-09-05T15:49:31.311246\n",
      "C:\\Users\\TGLAUB~1\\AppData\\Local\\Temp\\tmpa1q3gajl\\exported_report.ipynb           |     11930 bytes | 2024-09-05T15:49:31.335773\n",
      "C:\\Users\\TGLAUB~1\\AppData\\Local\\Temp\\tmpa1q3gajl\\exported_report.json            |     10378 bytes | 2024-09-05T15:49:31.311246\n",
      "C:\\Users\\TGLAUB~1\\AppData\\Local\\Temp\\tmpa1q3gajl\\exported_report.md              |      9985 bytes | 2024-09-05T15:49:31.310247\n",
      "C:\\Users\\TGLAUB~1\\AppData\\Local\\Temp\\tmpa1q3gajl\\exported_report.tex.zip         |     18426 bytes | 2024-09-05T15:49:31.337775\n",
      "C:\\Users\\TGLAUB~1\\AppData\\Local\\Temp\\tmpa1q3gajl\\exported_report.textile.zip     |     18222 bytes | 2024-09-05T15:49:31.335773\n"
     ]
    }
   ],
   "source": [
    "import tempfile, os, datetime\n",
    "with tempfile.TemporaryDirectory() as tmpdir:\n",
    "    dc = doc.export_all(tmpdir)\n",
    "\n",
    "\n",
    "    print('\\n')\n",
    "    print('This shows the filenames and if writing was successfull!')\n",
    "    for k, v in dc.items():\n",
    "        print(k.ljust(80, '.'), v)\n",
    "\n",
    "    print('\\n')\n",
    "    print('PATH'.ljust(80, ' ') + ' |' + str('SIZE').rjust(10, ' ') + ' bytes | LAST TIME MODIFIED')\n",
    "    print(''.ljust(80, '-') + ' +' + str('').rjust(17, '-') + '+' + ''.ljust(30,'-'))\n",
    "    for entry in os.listdir(tmpdir):\n",
    "        entry_path = os.path.join(tmpdir, entry)\n",
    "        file_size = os.path.getsize(entry_path)\n",
    "        modified_time = os.path.getmtime(entry_path)\n",
    "        print(entry_path.ljust(80, ' ') + ' |' + str(file_size).rjust(10, ' ') + ' bytes | ' + datetime.datetime.fromtimestamp(modified_time).isoformat())\n",
    "\n",
    "\n",
    "\n"
   ]
  },
  {
   "cell_type": "markdown",
   "metadata": {},
   "source": [
    "# Export as Markdown"
   ]
  },
  {
   "cell_type": "code",
   "execution_count": 8,
   "metadata": {},
   "outputs": [
    {
     "name": "stdout",
     "output_type": "stream",
     "text": [
      "## Introduction\n",
      "\n",
      "\n",
      "\n",
      "dummy text which will be added to the introduction\n",
      "\n",
      "\n",
      "\n",
      "```\n",
      "def hello_world():\n",
      "   print(\"hello world!\")\n",
      "```\n",
      "\n",
      "\n",
      "\n",
      "## Second Chapter\n",
      "\n",
      "\n",
      "\n",
      "This is my fancy `markdown` text for the Second Cha...\n",
      "(rest omitted for brevity)\n"
     ]
    }
   ],
   "source": [
    "# either get the markdown string like this\n",
    "\n",
    "md_str = doc.to_markdown(embed_images=False)\n",
    "\n",
    "print(md_str[:200] + '...\\n(rest omitted for brevity)')"
   ]
  },
  {
   "cell_type": "code",
   "execution_count": 9,
   "metadata": {},
   "outputs": [
    {
     "data": {
      "text/markdown": [
       "## Introduction\n",
       "\n",
       "\n",
       "\n",
       "dummy text which will be added to the introduction\n",
       "\n",
       "\n",
       "\n",
       "```\n",
       "def hello_world():\n",
       "   print(\"hello world!\")\n",
       "```\n",
       "\n",
       "\n",
       "\n",
       "## Second Chapter\n",
       "\n",
       "\n",
       "\n",
       "This is my fancy `markdown` text for the Second Chapter\n",
       "\n",
       "\n",
       "\n",
       "\n",
       "\n",
       "![GitHub-Mark-ea2971cee799.png](data:image/png;base64,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)\n",
       "\n",
       "*caption:* None\n",
       "\n",
       "\n",
       "\n"
      ],
      "text/plain": [
       "<IPython.core.display.Markdown object>"
      ]
     },
     "metadata": {},
     "output_type": "display_data"
    }
   ],
   "source": [
    "#you can show the markdown string directly like this\n",
    "\n",
    "from IPython.display import display, HTML, Markdown\n",
    "md_str = doc.to_markdown()\n",
    "display(Markdown(md_str))"
   ]
  },
  {
   "cell_type": "code",
   "execution_count": 10,
   "metadata": {},
   "outputs": [],
   "source": [
    "# this would save to the path 'path/to/my_file.md' (if that direcory would exist) and return True on success\n",
    "# doc.to_markdown('path/to/my_file.md')"
   ]
  },
  {
   "cell_type": "code",
   "execution_count": 11,
   "metadata": {},
   "outputs": [
    {
     "name": "stdout",
     "output_type": "stream",
     "text": [
      "## Introduction\n",
      "\n",
      "\n",
      "\n",
      "dummy text which will be added to the introduction\n",
      "\n",
      "\n",
      "\n",
      "```\n",
      "def hello_world():\n",
      "   print(\"hello world!\")\n",
      "```\n",
      "\n",
      "\n",
      "\n",
      "## Second Chapter\n",
      "\n",
      "\n",
      "\n",
      "This is my fancy `markdown` text for the Second Cha...\n",
      "(rest omitted for brevity)\n"
     ]
    }
   ],
   "source": [
    "import io\n",
    "# we can also save to stream like this\n",
    "with io.StringIO() as fp:\n",
    "    doc.to_markdown(fp)\n",
    "\n",
    "    # get the text from stream\n",
    "    fp.seek(0)\n",
    "    md_str = fp.read()\n",
    "    print(md_str[:200] + '...\\n(rest omitted for brevity)')"
   ]
  },
  {
   "cell_type": "markdown",
   "metadata": {},
   "source": [
    "## Export as HTML"
   ]
  },
  {
   "cell_type": "code",
   "execution_count": 12,
   "metadata": {},
   "outputs": [
    {
     "name": "stdout",
     "output_type": "stream",
     "text": [
      "<h2>Introduction</h2>\n",
      "\n",
      "<div>dummy text which will be added to the introduction</div>\n",
      "\n",
      "<div style=\"min-width:100;\"></div>\n",
      "\n",
      "<pre>def hello_world():\n",
      "   print(\"hello world!\")</pre>\n",
      "\n",
      "<h2>Second Chapter</h2...\n",
      "(rest omitted for brevity)\n"
     ]
    }
   ],
   "source": [
    "# either get the HTML as string like this\n",
    "\n",
    "html_str = doc.to_html()\n",
    "\n",
    "print(html_str[:200] + '...\\n(rest omitted for brevity)')"
   ]
  },
  {
   "cell_type": "code",
   "execution_count": 13,
   "metadata": {},
   "outputs": [],
   "source": [
    "# this would save to the path 'path/to/my_file.html' (if that direcory would exist) and return True on success\n",
    "# doc.to_html('path/to/my_file.html')"
   ]
  },
  {
   "cell_type": "code",
   "execution_count": 14,
   "metadata": {},
   "outputs": [
    {
     "name": "stdout",
     "output_type": "stream",
     "text": [
      "<h2>Introduction</h2>\n",
      "\n",
      "<div>dummy text which will be added to the introduction</div>\n",
      "\n",
      "<div style=\"min-width:100;\"></div>\n",
      "\n",
      "<pre>def hello_world():\n",
      "   print(\"hello world!\")</pre>\n",
      "\n",
      "<h2>Second Chapter</h2...\n",
      "(rest omitted for brevity)\n"
     ]
    }
   ],
   "source": [
    "import io\n",
    "# we can also save to stream like this\n",
    "with io.StringIO() as fp:\n",
    "    doc.to_html(fp)\n",
    "\n",
    "    # get the text from stream\n",
    "    fp.seek(0)\n",
    "    html_str = fp.read()\n",
    "    print(html_str[:200] + '...\\n(rest omitted for brevity)')"
   ]
  },
  {
   "cell_type": "markdown",
   "metadata": {},
   "source": [
    "## Export as docx"
   ]
  },
  {
   "cell_type": "code",
   "execution_count": 15,
   "metadata": {},
   "outputs": [
    {
     "name": "stdout",
     "output_type": "stream",
     "text": [
      "44233\n"
     ]
    }
   ],
   "source": [
    "# this gets the docx content as bytes\n",
    "docx_bts = doc.to_docx()\n",
    "print(len(docx_bts))\n",
    "\n",
    "# this would save to the path 'path/to/my_file.docx' (if that direcory would exist) and return True on success\n",
    "# doc.to_docx('path/to/my_file.docx')\n",
    "\n",
    "# NOTE: This also works with streams like above"
   ]
  },
  {
   "cell_type": "markdown",
   "metadata": {},
   "source": [
    "## Export as tex"
   ]
  },
  {
   "cell_type": "code",
   "execution_count": 16,
   "metadata": {},
   "outputs": [
    {
     "name": "stdout",
     "output_type": "stream",
     "text": [
      "\n",
      "\n",
      "\\section{Introduction}\n",
      "\n",
      "\n",
      "dummy text which will be added to the introduction\n",
      "\n",
      "\\begin{tabular}{|p{16cm}|}\n",
      "\\hline\n",
      "\\begin{tiny}\\begin{verbatim}\n",
      "def hello_world():\n",
      "   print(\"hello world!\")\n",
      "\\end{verbatim}\\end{tiny}\n",
      "\\\\\n",
      "\\hline\n",
      "\\end{tabular}\\par\n",
      "\n",
      "\n",
      "\n",
      "\\section{Second Chapter}\n",
      "\n",
      "\n",
      "\n",
      "This is my fancy markdown text...\n",
      "(rest omitted for brevity)\n",
      "----------------------------------------------------------------------------------------------------\n",
      "Attachments\n",
      "----------------------------------------------------------------------------------------------------\n",
      "inp\\GitHub-Mark-ea2971cee799.png 7249 b'\\x89PNG\\r\\n\\x1a\\n\\x00\\x00\\x00\\rIHDR\\x00\\x00\\x020\\x00\\x00\\x020\\x08\\x03\\x00\\x00\\x00\\xaf/\\xa1]\\x00\\x00\\x02\\xfdPLTE\\xff\\xff\\xff\\xfe\\xfe\\xfe\\xfd\\xfd\\xfd\\xfc\\xfc\\xfc\\xfb\\xfb\\xfb\\xfa\\xfa\\xfa\\xfa\\xf9\\xf9\\xf9\\xf9\\xf9\\xf8\\xf8\\xf8\\xf7\\xf7\\xf7\\xf6\\xf6\\xf6\\xf5\\xf5\\xf5\\xf4\\xf4\\xf4\\xf3\\xf3\\xf3\\xf2\\xf2\\xf2\\xf1\\xf1\\xf1\\xf0\\xf0\\xf0\\xf0\\xef\\xef\\xef\\xee\\xee\\xee\\xee'\n"
     ]
    }
   ],
   "source": [
    "# you can get the text and attachments (dict[str, bytes]) directly like this\n",
    "\n",
    "tex_str, attachments_dc = doc.to_tex()\n",
    "print(tex_str[:300] + '...\\n(rest omitted for brevity)')\n",
    "\n",
    "print('-'*100)\n",
    "print('Attachments')\n",
    "print('-'*100)\n",
    "for k, attachment_bts in attachments_dc.items():\n",
    "    print(k, len(attachment_bts), attachment_bts[:100])\n"
   ]
  },
  {
   "cell_type": "code",
   "execution_count": 17,
   "metadata": {},
   "outputs": [
    {
     "name": "stdout",
     "output_type": "stream",
     "text": [
      "b'PK\\x03\\x04\\x14\\x00\\x00\\x00\\x00\\x00/~%Ymd\\x85\\x7fn(\\x00\\x00n(\\x00\\x00\\x08\\x00\\x00\\x00doc.json[\\n    {\\n        \"typ\": \"markdown\",\\n        \"children\": \"## Int' ...\n",
      "(rest omitted for brevity)\n"
     ]
    }
   ],
   "source": [
    "# this would save all tex files to the path 'path/to/my_file.zip' (if that direcory would exist) and return True on success\n",
    "# doc.to_tex('path/to/my_file.zip')\n",
    "\n",
    "# NOTE: This also works with streams like above\n",
    "\n",
    "with io.BytesIO() as fp:\n",
    "    doc.to_tex(fp)\n",
    "\n",
    "    # get the bytes from stream\n",
    "    fp.seek(0)\n",
    "    zip_bts = fp.read()\n",
    "    print(zip_bts[:100], '...\\n(rest omitted for brevity)')\n",
    "    "
   ]
  },
  {
   "cell_type": "markdown",
   "metadata": {},
   "source": [
    "## Export as Textile (redmine native format)"
   ]
  },
  {
   "cell_type": "code",
   "execution_count": 18,
   "metadata": {},
   "outputs": [
    {
     "name": "stdout",
     "output_type": "stream",
     "text": [
      "h2.  Introduction\n",
      "\n",
      "\n",
      "\n",
      "dummy text which will be added to the introduction\n",
      "\n",
      "\n",
      "\n",
      "<pre>def hello_world():\n",
      " ...\n",
      "(rest omitted for brevity)\n",
      "----------------------------------------------------------------------------------------------------\n",
      "Attachments\n",
      "----------------------------------------------------------------------------------------------------\n",
      "doc.json len(attachment_bts)=10266 type(attachment_bts)=<class 'str'>\n",
      "GitHub-Mark-ea2971cee799.png len(attachment_bts)=7249 type(attachment_bts)=<class 'bytes'>\n"
     ]
    }
   ],
   "source": [
    "# you can get the text and attachments (dict[str, bytes]) directly like this\n",
    "\n",
    "textile_str, attachments_dc = doc.to_textile()\n",
    "print(textile_str[:100] + '...\\n(rest omitted for brevity)')\n",
    "\n",
    "print('-'*100)\n",
    "print('Attachments')\n",
    "print('-'*100)\n",
    "for k, attachment_bts in attachments_dc.items():\n",
    "    print(f'{k} {len(attachment_bts)=} {type(attachment_bts)=}')\n"
   ]
  },
  {
   "cell_type": "code",
   "execution_count": 19,
   "metadata": {},
   "outputs": [
    {
     "name": "stdout",
     "output_type": "stream",
     "text": [
      "b'PK\\x03\\x04\\x14\\x00\\x00\\x00\\x00\\x00/~%Yt/r\\xc4i\\x01\\x00\\x00i\\x01\\x00\\x00\\x0c\\x00\\x00\\x00main.textileh2.  Introduction\\n\\n\\n\\ndummy text which will be added to the' ...\n",
      "(rest omitted for brevity)\n"
     ]
    }
   ],
   "source": [
    "# this would save all textile files to the path 'path/to/my_file.zip' (if that direcory would exist) and return True on success\n",
    "# doc.to_tex('path/to/my_file.zip')\n",
    "\n",
    "# NOTE: This also works with streams like above\n",
    "\n",
    "with io.BytesIO() as fp:\n",
    "    doc.to_textile(fp)\n",
    "\n",
    "    # get the bytes from stream\n",
    "    fp.seek(0)\n",
    "    zip_bts = fp.read()\n",
    "    print(zip_bts[:100], '...\\n(rest omitted for brevity)')\n",
    "    "
   ]
  },
  {
   "cell_type": "markdown",
   "metadata": {},
   "source": [
    "# Export as Redmine"
   ]
  },
  {
   "cell_type": "code",
   "execution_count": 20,
   "metadata": {},
   "outputs": [
    {
     "name": "stdout",
     "output_type": "stream",
     "text": [
      "h2.  Introduction\n",
      "\n",
      "\n",
      "\n",
      "dummy text which will be added to the introduction\n",
      "\n",
      "\n",
      "\n",
      "<pre>def hello_world():\n",
      " ...\n",
      "(rest omitted for brevity)\n",
      "----------------------------------------------------------------------------------------------------\n",
      "Attachments\n",
      "----------------------------------------------------------------------------------------------------\n",
      "GitHub-Mark-ea2971cee799.png <class '_io.BytesIO'> application/octet-stream\n"
     ]
    }
   ],
   "source": [
    "# here we can not save to a file, but only return the exported values\n",
    "text_textile, attachments_lst = doc.to_redmine()\n",
    "\n",
    "print(text_textile[:100] + '...\\n(rest omitted for brevity)')\n",
    "\n",
    "print('-'*100)\n",
    "print('Attachments')\n",
    "print('-'*100)\n",
    "for a in attachments_lst:\n",
    "    print(a.get('filename'), type(a.get('path')), a.get('content_type'))\n",
    "\n",
    "# this we can use to upload to redmine, but not save to a file directly"
   ]
  },
  {
   "cell_type": "markdown",
   "metadata": {},
   "source": [
    "# Export as iPython Notebook (ipynb)"
   ]
  },
  {
   "cell_type": "code",
   "execution_count": 21,
   "metadata": {},
   "outputs": [
    {
     "name": "stdout",
     "output_type": "stream",
     "text": [
      "{\n",
      "  \"cells\": [\n",
      "    {\n",
      "      \"cell_type\": \"markdown\",\n",
      "      \"metadata\": {},\n",
      "      \"source\": [\n",
      "        \"## Introduction\\n\"\n",
      "      ]\n",
      "    },\n",
      "    {\n",
      "      \"cell_type\": \"raw\",\n",
      "      \"metadata\": {},\n",
      "      \"sour...\n",
      "(rest omitted for brevity)\n"
     ]
    }
   ],
   "source": [
    "# either get the HTML as string like this\n",
    "\n",
    "ipynb_str = doc.to_ipynb()\n",
    "\n",
    "print(ipynb_str[:200] + '...\\n(rest omitted for brevity)')\n",
    "# NOTE: This also works with streams like above\n"
   ]
  }
 ],
 "metadata": {
  "kernelspec": {
   "display_name": "base",
   "language": "python",
   "name": "python3"
  },
  "language_info": {
   "codemirror_mode": {
    "name": "ipython",
    "version": 3
   },
   "file_extension": ".py",
   "mimetype": "text/x-python",
   "name": "python",
   "nbconvert_exporter": "python",
   "pygments_lexer": "ipython3",
   "version": "3.11.5"
  }
 },
 "nbformat": 4,
 "nbformat_minor": 2
}
